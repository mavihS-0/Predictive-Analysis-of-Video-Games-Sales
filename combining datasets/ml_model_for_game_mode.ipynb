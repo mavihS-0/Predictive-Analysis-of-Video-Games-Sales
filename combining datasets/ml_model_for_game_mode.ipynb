{
 "cells": [
  {
   "cell_type": "code",
   "execution_count": 1,
   "metadata": {},
   "outputs": [
    {
     "name": "stdout",
     "output_type": "stream",
     "text": [
      "(6404, 17)\n"
     ]
    }
   ],
   "source": [
    "import pandas as pd\n",
    "\n",
    "# Read the dataset\n",
    "data = pd.read_excel('dataset_with_mode.xlsx')\n",
    "data.head()\n",
    "\n",
    "# size of data\n",
    "print(data.shape)\n"
   ]
  },
  {
   "cell_type": "markdown",
   "metadata": {},
   "source": [
    "## Pre-processing\n",
    "Getting dummies for categorical data"
   ]
  },
  {
   "cell_type": "code",
   "execution_count": 2,
   "metadata": {},
   "outputs": [
    {
     "name": "stdout",
     "output_type": "stream",
     "text": [
      "Shape pre-dummies:  (6404, 17)\n",
      "Shape post-dummies:  (6404, 61)\n",
      "New Columns:  Index(['Year_of_Release', 'Global_Sales', 'Critic_Score', 'Critic_Count',\n",
      "       'User_Score', 'User_Count', 'Mode', 'Platform_2600', 'Platform_3DS',\n",
      "       'Platform_DC', 'Platform_DS', 'Platform_GB', 'Platform_GBA',\n",
      "       'Platform_GC', 'Platform_GEN', 'Platform_N64', 'Platform_NES',\n",
      "       'Platform_NG', 'Platform_PC', 'Platform_PS', 'Platform_PS2',\n",
      "       'Platform_PS3', 'Platform_PS4', 'Platform_PSP', 'Platform_PSV',\n",
      "       'Platform_SAT', 'Platform_SCD', 'Platform_SNES', 'Platform_WS',\n",
      "       'Platform_Wii', 'Platform_WiiU', 'Platform_X360', 'Platform_XB',\n",
      "       'Platform_XOne', 'Genre_Action', 'Genre_Adventure', 'Genre_Fighting',\n",
      "       'Genre_Misc', 'Genre_Platform', 'Genre_Puzzle', 'Genre_Racing',\n",
      "       'Genre_Role-Playing', 'Genre_Shooter', 'Genre_Simulation',\n",
      "       'Genre_Sports', 'Genre_Strategy', 'Rating_AO', 'Rating_E',\n",
      "       'Rating_E10+', 'Rating_EC', 'Rating_K-A', 'Rating_M', 'Rating_RP',\n",
      "       'Rating_T'],\n",
      "      dtype='object')\n"
     ]
    }
   ],
   "source": [
    "# Creating dummies for platform, genre, rating\n",
    "print('Shape pre-dummies: ',data.shape) #pre-dummies shape\n",
    "data = pd.get_dummies(data=data, columns=['Platform', 'Genre', 'Rating'])\n",
    "print('Shape post-dummies: ',data.shape) #post-dummies shape\n",
    "\n",
    "# Dropping features we wish to discard\n",
    "data = data.drop(['Name', 'Publisher', 'Developer', 'NA_Sales', 'EU_Sales', 'JP_Sales', 'Other_Sales'], axis=1)\n",
    "print('New Columns: ', data.columns)"
   ]
  },
  {
   "cell_type": "markdown",
   "metadata": {},
   "source": [
    "## Variables and Targer"
   ]
  },
  {
   "cell_type": "code",
   "execution_count": 3,
   "metadata": {},
   "outputs": [],
   "source": [
    "#Variables\n",
    "X = data[['Platform_PC', 'Platform_PS3',\n",
    "       'Platform_PS4', 'Platform_Wii', 'Platform_WiiU', 'Platform_X360',\n",
    "       'Platform_XOne', 'Genre_Action', 'Genre_Adventure', 'Genre_Fighting',\n",
    "       'Genre_Misc', 'Genre_Platform', 'Genre_Puzzle', 'Genre_Racing',\n",
    "       'Genre_Role-Playing', 'Genre_Shooter', 'Genre_Simulation',\n",
    "       'Genre_Sports', 'Genre_Strategy']]\n",
    "\n",
    "#Target\n",
    "Y = data[['Mode']]"
   ]
  },
  {
   "cell_type": "markdown",
   "metadata": {},
   "source": [
    "## Test-Train Split"
   ]
  },
  {
   "cell_type": "code",
   "execution_count": 4,
   "metadata": {},
   "outputs": [
    {
     "name": "stdout",
     "output_type": "stream",
     "text": [
      "X_train shape: (4803, 19)\n",
      "Y_train shape: (4803, 1)\n",
      "X_test shape: (1601, 19)\n",
      "Y_test shape: (1601, 1)\n"
     ]
    }
   ],
   "source": [
    "from sklearn.model_selection import train_test_split\n",
    "\n",
    "X_train, X_test, Y_train, Y_test = train_test_split(X, Y, random_state=42)\n",
    "\n",
    "#Check the shape of the split data as a precaution\n",
    "print(\"X_train shape: {}\".format(X_train.shape))\n",
    "print(\"Y_train shape: {}\".format(Y_train.shape))\n",
    "\n",
    "print(\"X_test shape: {}\".format(X_test.shape))\n",
    "print(\"Y_test shape: {}\".format(Y_test.shape))"
   ]
  },
  {
   "cell_type": "markdown",
   "metadata": {},
   "source": [
    "## Random Forest Classifier"
   ]
  },
  {
   "cell_type": "code",
   "execution_count": 5,
   "metadata": {},
   "outputs": [
    {
     "name": "stderr",
     "output_type": "stream",
     "text": [
      "C:\\Users\\shiva\\AppData\\Local\\Temp\\ipykernel_14376\\669495143.py:8: DataConversionWarning: A column-vector y was passed when a 1d array was expected. Please change the shape of y to (n_samples,), for example using ravel().\n",
      "  rf_classifier.fit(X_train, Y_train)\n"
     ]
    },
    {
     "name": "stdout",
     "output_type": "stream",
     "text": [
      "Random Forest Accuracy: 0.6271080574640849\n"
     ]
    }
   ],
   "source": [
    "from sklearn.ensemble import RandomForestClassifier\n",
    "from sklearn.metrics import  accuracy_score\n",
    "\n",
    "# Initialize the Random Forest Classifier\n",
    "rf_classifier = RandomForestClassifier(n_estimators=100, random_state=42)\n",
    "\n",
    "# Train the classifier\n",
    "rf_classifier.fit(X_train, Y_train)\n",
    "\n",
    "# Make predictions on the test set\n",
    "rf_predictions = rf_classifier.predict(X_test)\n",
    "\n",
    "# Evaluate the model\n",
    "rf_accuracy = accuracy_score(Y_test, rf_predictions)\n",
    "print(\"Random Forest Accuracy:\", rf_accuracy)\n"
   ]
  },
  {
   "cell_type": "markdown",
   "metadata": {},
   "source": [
    "## Decision Tree Classifiers (Cart and ID3)"
   ]
  },
  {
   "cell_type": "code",
   "execution_count": 6,
   "metadata": {},
   "outputs": [
    {
     "name": "stdout",
     "output_type": "stream",
     "text": [
      "ID3 Accuracy: 0.6221111805121798\n",
      "\n",
      "CART Accuracy: 0.6221111805121798\n"
     ]
    }
   ],
   "source": [
    "from sklearn.tree import DecisionTreeClassifier\n",
    "\n",
    "# Initialize the ID3 Decision Tree Classifier\n",
    "id3_classifier = DecisionTreeClassifier(criterion='entropy', random_state=42)\n",
    "\n",
    "# Train the ID3 classifier\n",
    "id3_classifier.fit(X_train, Y_train)\n",
    "\n",
    "# Make predictions on the test set using ID3\n",
    "id3_predictions = id3_classifier.predict(X_test)\n",
    "\n",
    "# Evaluate the ID3 model\n",
    "id3_accuracy = accuracy_score(Y_test, id3_predictions)\n",
    "print(\"ID3 Accuracy:\", id3_accuracy)\n",
    "\n",
    "# Initialize the CART Decision Tree Classifier\n",
    "cart_classifier = DecisionTreeClassifier(criterion='gini', random_state=42)\n",
    "\n",
    "# Train the CART classifier\n",
    "cart_classifier.fit(X_train, Y_train)\n",
    "\n",
    "# Make predictions on the test set using CART\n",
    "cart_predictions = cart_classifier.predict(X_test)\n",
    "\n",
    "# Evaluate the CART model\n",
    "cart_accuracy = accuracy_score(Y_test, cart_predictions)\n",
    "print(\"\\nCART Accuracy:\", cart_accuracy)\n",
    "\n"
   ]
  },
  {
   "cell_type": "markdown",
   "metadata": {},
   "source": [
    "## Logistic Regression"
   ]
  },
  {
   "cell_type": "code",
   "execution_count": 7,
   "metadata": {},
   "outputs": [
    {
     "name": "stdout",
     "output_type": "stream",
     "text": [
      "Logistic Regression Accuracy: 0.6152404747033104\n"
     ]
    },
    {
     "name": "stderr",
     "output_type": "stream",
     "text": [
      "c:\\ProgramData\\anaconda3\\Lib\\site-packages\\sklearn\\utils\\validation.py:1143: DataConversionWarning: A column-vector y was passed when a 1d array was expected. Please change the shape of y to (n_samples, ), for example using ravel().\n",
      "  y = column_or_1d(y, warn=True)\n"
     ]
    }
   ],
   "source": [
    "from sklearn.linear_model import LogisticRegression\n",
    "\n",
    "# Initialize Logistic Regression Classifier\n",
    "logistic_regression = LogisticRegression(max_iter=1000, random_state=42)\n",
    "\n",
    "# Train the Logistic Regression Classifier\n",
    "logistic_regression.fit(X_train, Y_train)\n",
    "\n",
    "# Make predictions on the test set using Logistic Regression\n",
    "logistic_regression_predictions = logistic_regression.predict(X_test)\n",
    "\n",
    "# Evaluate the Logistic Regression model\n",
    "logistic_regression_accuracy = accuracy_score(Y_test, logistic_regression_predictions)\n",
    "print(\"Logistic Regression Accuracy:\", logistic_regression_accuracy)\n",
    "\n"
   ]
  },
  {
   "cell_type": "markdown",
   "metadata": {},
   "source": [
    "## Naive Bayes Classifier"
   ]
  },
  {
   "cell_type": "code",
   "execution_count": 8,
   "metadata": {},
   "outputs": [
    {
     "name": "stdout",
     "output_type": "stream",
     "text": [
      "\n",
      "Naïve Bayes Accuracy: 0.5265459088069956\n"
     ]
    },
    {
     "name": "stderr",
     "output_type": "stream",
     "text": [
      "c:\\ProgramData\\anaconda3\\Lib\\site-packages\\sklearn\\utils\\validation.py:1143: DataConversionWarning: A column-vector y was passed when a 1d array was expected. Please change the shape of y to (n_samples, ), for example using ravel().\n",
      "  y = column_or_1d(y, warn=True)\n"
     ]
    }
   ],
   "source": [
    "from sklearn.naive_bayes import GaussianNB\n",
    "\n",
    "# Initialize Naïve Bayes Classifier\n",
    "naive_bayes = GaussianNB()\n",
    "\n",
    "# Train the Naïve Bayes Classifier\n",
    "naive_bayes.fit(X_train, Y_train)\n",
    "\n",
    "# Make predictions on the test set using Naïve Bayes\n",
    "naive_bayes_predictions = naive_bayes.predict(X_test)\n",
    "\n",
    "# Evaluate the Naïve Bayes model\n",
    "naive_bayes_accuracy = accuracy_score(Y_test, naive_bayes_predictions)\n",
    "print(\"\\nNaïve Bayes Accuracy:\", naive_bayes_accuracy)\n"
   ]
  },
  {
   "cell_type": "code",
   "execution_count": 17,
   "metadata": {},
   "outputs": [
    {
     "name": "stderr",
     "output_type": "stream",
     "text": [
      "c:\\ProgramData\\anaconda3\\Lib\\site-packages\\sklearn\\neighbors\\_classification.py:215: DataConversionWarning: A column-vector y was passed when a 1d array was expected. Please change the shape of y to (n_samples,), for example using ravel().\n",
      "  return self._fit(X, y)\n"
     ]
    },
    {
     "name": "stdout",
     "output_type": "stream",
     "text": [
      "KNN Accuracy: 0.5384134915677702\n"
     ]
    }
   ],
   "source": [
    "from sklearn.neighbors import KNeighborsClassifier\n",
    "\n",
    "# Initialize KNN Classifier\n",
    "k = 5  # Number of neighbors to consider\n",
    "knn_classifier = KNeighborsClassifier(n_neighbors=k)\n",
    "\n",
    "# Train the KNN Classifier\n",
    "knn_classifier.fit(X_train, Y_train)\n",
    "\n",
    "# Make predictions on the test set using KNN\n",
    "knn_predictions = knn_classifier.predict(X_test)\n",
    "\n",
    "# Evaluate the KNN model\n",
    "knn_accuracy = accuracy_score(Y_test, knn_predictions)\n",
    "print(\"KNN Accuracy:\", knn_accuracy)"
   ]
  },
  {
   "cell_type": "markdown",
   "metadata": {},
   "source": [
    "## Comparison"
   ]
  },
  {
   "cell_type": "code",
   "execution_count": 18,
   "metadata": {},
   "outputs": [
    {
     "data": {
      "image/png": "[encoded data removed]",
      "text/plain": [
       "<Figure size 1000x600 with 1 Axes>"
      ]
     },
     "metadata": {},
     "output_type": "display_data"
    }
   ],
   "source": [
    "import matplotlib.pyplot as plt\n",
    "\n",
    "# List of model names\n",
    "models = ['Random Forest','K Nearest Neighbours','Logistic Regression', 'Naïve Bayes', 'ID3 Decision Tree', 'CART Decision Tree']\n",
    "\n",
    "# List of accuracy scores for each model\n",
    "accuracy_scores = [rf_accuracy, knn_accuracy, logistic_regression_accuracy, naive_bayes_accuracy, id3_accuracy, cart_accuracy ]  # Replace with your actual accuracy scores\n",
    "\n",
    "# Plotting the bar graph\n",
    "plt.figure(figsize=(10, 6))\n",
    "plt.bar(models, accuracy_scores, color='skyblue')\n",
    "\n",
    "# Adding labels and title\n",
    "plt.xlabel('Model')\n",
    "plt.ylabel('Accuracy Score')\n",
    "plt.title('Comparison of Accuracy Scores for Different Models')\n",
    "\n",
    "# Displaying the plot\n",
    "plt.xticks(rotation=45)\n",
    "plt.ylim(0, 1)  # Set y-axis limit from 0 to 1\n",
    "plt.grid(axis='y', linestyle='--', alpha=0.7)\n",
    "plt.tight_layout()\n",
    "plt.show()"
   ]
  },
  {
   "cell_type": "markdown",
   "metadata": {},
   "source": [
    "## Updating Dataset using Random Forest"
   ]
  },
  {
   "cell_type": "code",
   "execution_count": 9,
   "metadata": {},
   "outputs": [
    {
     "name": "stdout",
     "output_type": "stream",
     "text": [
      "(4429, 16)\n"
     ]
    }
   ],
   "source": [
    "# Read the dataset\n",
    "data = pd.read_excel('dataset_without_mode.xlsx')\n",
    "data2 = pd.read_excel('dataset_without_mode.xlsx')\n",
    "data.head()\n",
    "\n",
    "# size of data\n",
    "print(data.shape)"
   ]
  },
  {
   "cell_type": "code",
   "execution_count": 12,
   "metadata": {},
   "outputs": [
    {
     "name": "stdout",
     "output_type": "stream",
     "text": [
      "Shape pre-dummies:  (4429, 16)\n",
      "Shape post-dummies:  (4429, 47)\n",
      "New Columns:  Index(['Year_of_Release', 'Global_Sales', 'Critic_Score', 'Critic_Count',\n",
      "       'User_Score', 'User_Count', 'Platform_3DS', 'Platform_DS',\n",
      "       'Platform_GBA', 'Platform_GC', 'Platform_PC', 'Platform_PS',\n",
      "       'Platform_PS2', 'Platform_PS3', 'Platform_PS4', 'Platform_PSP',\n",
      "       'Platform_PSV', 'Platform_Wii', 'Platform_WiiU', 'Platform_X360',\n",
      "       'Platform_XB', 'Platform_XOne', 'Genre_Action', 'Genre_Adventure',\n",
      "       'Genre_Fighting', 'Genre_Misc', 'Genre_Platform', 'Genre_Puzzle',\n",
      "       'Genre_Racing', 'Genre_Role-Playing', 'Genre_Shooter',\n",
      "       'Genre_Simulation', 'Genre_Sports', 'Genre_Strategy', 'Rating_E',\n",
      "       'Rating_E10+', 'Rating_EC', 'Rating_M', 'Rating_RP', 'Rating_T'],\n",
      "      dtype='object')\n"
     ]
    }
   ],
   "source": [
    "# Creating dummies for platform, genre, rating\n",
    "print('Shape pre-dummies: ',data.shape) #pre-dummies shape\n",
    "data = pd.get_dummies(data=data, columns=['Platform', 'Genre', 'Rating'])\n",
    "print('Shape post-dummies: ',data.shape) #post-dummies shape\n",
    "\n",
    "# Dropping features we wish to discard\n",
    "data = data.drop(['Name', 'Publisher', 'Developer', 'NA_Sales', 'EU_Sales', 'JP_Sales', 'Other_Sales'], axis=1)\n",
    "print('New Columns: ', data.columns)"
   ]
  },
  {
   "cell_type": "code",
   "execution_count": 13,
   "metadata": {},
   "outputs": [],
   "source": [
    "#Variables\n",
    "X = data[['Platform_PC', 'Platform_PS3',\n",
    "       'Platform_PS4', 'Platform_Wii', 'Platform_WiiU', 'Platform_X360',\n",
    "       'Platform_XOne', 'Genre_Action', 'Genre_Adventure', 'Genre_Fighting',\n",
    "       'Genre_Misc', 'Genre_Platform', 'Genre_Puzzle', 'Genre_Racing',\n",
    "       'Genre_Role-Playing', 'Genre_Shooter', 'Genre_Simulation',\n",
    "       'Genre_Sports', 'Genre_Strategy']]\n",
    "\n"
   ]
  },
  {
   "cell_type": "code",
   "execution_count": 14,
   "metadata": {},
   "outputs": [],
   "source": [
    "predictions = rf_classifier.predict(X)\n",
    "data2['Mode'] = predictions\n"
   ]
  },
  {
   "cell_type": "code",
   "execution_count": 15,
   "metadata": {},
   "outputs": [],
   "source": [
    "data2.to_excel('final_dataset.xlsx', index=False)"
   ]
  }
 ],
 "metadata": {
  "kernelspec": {
   "display_name": "base",
   "language": "python",
   "name": "python3"
  },
  "language_info": {
   "codemirror_mode": {
    "name": "ipython",
    "version": 3
   },
   "file_extension": ".py",
   "mimetype": "text/x-python",
   "name": "python",
   "nbconvert_exporter": "python",
   "pygments_lexer": "ipython3",
   "version": "3.11.7"
  }
 },
 "nbformat": 4,
 "nbformat_minor": 2
}
